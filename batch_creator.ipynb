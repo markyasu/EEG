{
 "cells": [
  {
   "cell_type": "code",
   "execution_count": null,
   "metadata": {},
   "outputs": [],
   "source": [
    "# Batch creator. When training it will return random locations in the dataset \n",
    "# and so we feed previous readings (going back window_size) in with each index. Rather than feed in all window_size \n",
    "# previous readings, we subsample and take every 4th set of readings.\n",
    "\n",
    "def get_batch(dataset, batch_size=2000, val=False, index=None):\n",
    "    \n",
    "    if val == False:\n",
    "        index = random.randint(window_size, len(dataset) - 16 * batch_size)\n",
    "        indexes = np.arange(index, index + 16*batch_size, 16) #bodmas \n",
    "\n",
    "    else:\n",
    "        indexes = np.arange(index, index + batch_size)\n",
    "    \n",
    "    batch = np.zeros((batch_size, num_features, window_size//4))\n",
    "    \n",
    "    b = 0\n",
    "    for i in indexes:\n",
    "        \n",
    "        start = i - window_size if i - window_size > 0 else 0 #return work. TAG IT\n",
    "        \n",
    "        tmp = dataset.data[start:i]\n",
    "        batch[b,:,:] = tmp[::4].transpose()\n",
    "        \n",
    "        b += 1\n",
    "\n",
    "    targets = dataset.target[indexes]\n",
    "    return torch.DoubleTensor(batch), torch.DoubleTensor(targets) "
   ]
  }
 ],
 "metadata": {
  "kernelspec": {
   "display_name": "Python 3",
   "language": "python",
   "name": "python3"
  },
  "language_info": {
   "codemirror_mode": {
    "name": "ipython",
    "version": 3
   },
   "file_extension": ".py",
   "mimetype": "text/x-python",
   "name": "python",
   "nbconvert_exporter": "python",
   "pygments_lexer": "ipython3",
   "version": "3.7.1"
  }
 },
 "nbformat": 4,
 "nbformat_minor": 2
}
